{
 "cells": [
  {
   "cell_type": "markdown",
   "metadata": {
    "raw_mimetype": "text/restructuredtext"
   },
   "source": [
    ".. _nb_custom_output:"
   ]
  },
  {
   "cell_type": "markdown",
   "metadata": {},
   "source": [
    "## Display"
   ]
  },
  {
   "cell_type": "markdown",
   "metadata": {},
   "source": [
    "When running the code, you might have seen some printouts (when using `verbose=True`), which might or might not have made a lot of sense to you. Below, a quick summary of possible printouts you might encounter is provided."
   ]
  },
  {
   "cell_type": "raw",
   "metadata": {
    "raw_mimetype": "text/restructuredtext"
   },
   "source": [
    ".. csv-table:: Types of Output\n",
    "   :header: \"Name\", \"Description\"\n",
    "   :widths: 5, 30\n",
    "\n",
    "   **n_gen**, \"The current number of generations or iterations until this point.\"\n",
    "   **n_eval**, \"The number of function evaluations so far.\"\n",
    "   **n_nds**, \"For multi-objective problems, the number of *non-dominated* solutions of the optima found.\"\n",
    "   **cv (min)**,  \"The minimum constraint violation (CV) in the current population\"\n",
    "   **cv (avg)**,  \"The average constraint violation (CV) of the current population\"\n",
    "   **f_opt**,  \"For single-objective problems, the best function value found so far.\"\n",
    "   **f_gap**,  \"For single-objective problems, the best gap to the optimum (only printed if the optimum is *known*).\"\n",
    "   **eps/indicator**, \"For multi-objective problems, the change of the indicator (ideal, nadir, f) over the last few generations (only printed if the Pareto-front is *unknown*). For more information we encourage you to have a look at the corresponding publication (:cite:`running`, `pdf <https://www.egr.msu.edu/~kdeb/papers/c2020003.pdf>`_).\"\n",
    "   **igd/gd/hv**, \"For multi-objective problems, the performance indicator (only printed if the Pareto-front is *known*).\""
   ]
  },
  {
   "cell_type": "markdown",
   "metadata": {},
   "source": [
    "The default printouts can vary from algorithm to algorithm and from problem to problem. The type of printout is based on an implementation of the `Display` object. If you like to customize the output, you can also write your own, as shown below:"
   ]
  },
  {
   "cell_type": "code",
   "execution_count": 1,
   "metadata": {
    "execution": {
     "iopub.execute_input": "2021-09-14T16:18:27.736615Z",
     "iopub.status.busy": "2021-09-14T16:18:27.735949Z",
     "iopub.status.idle": "2021-09-14T16:18:28.130551Z",
     "shell.execute_reply": "2021-09-14T16:18:28.131002Z"
    },
    "tags": []
   },
   "outputs": [
    {
     "name": "stdout",
     "output_type": "stream",
     "text": [
      "\n",
      "Compiled modules for significant speedup can not be used!\n",
      "https://pymoo.org/installation.html#installation\n",
      "\n",
      "To disable this warning:\n",
      "from pymoo.config import Config\n",
      "Config.show_compile_hint = False\n",
      "\n",
      "=============================================\n",
      "n_gen |  n_eval |   metric_a   |   metric_b  \n",
      "=============================================\n",
      "    1 |     100 |  0.500122773 |  2.958637098\n",
      "    2 |     200 |  0.457137310 |  2.716284231\n",
      "    3 |     300 |  0.424878151 |  2.540654646\n",
      "    4 |     400 |  0.394032982 |  2.404824717\n",
      "    5 |     500 |  0.370407264 |  2.295560288\n",
      "    6 |     600 |  0.352432747 |  2.213395359\n",
      "    7 |     700 |  0.328691523 |  2.099318577\n"
     ]
    },
    {
     "name": "stdout",
     "output_type": "stream",
     "text": [
      "    8 |     800 |  0.309089487 |  1.997100714\n",
      "    9 |     900 |  0.291940743 |  1.918699384\n",
      "   10 |    1000 |  0.272572521 |  1.832162449\n"
     ]
    }
   ],
   "source": [
    "from pymoo.algorithms.moo.nsga2 import NSGA2\n",
    "from pymoo.factory import get_problem\n",
    "from pymoo.optimize import minimize\n",
    "from pymoo.util.display import Display\n",
    "import numpy as np\n",
    "\n",
    "\n",
    "class MyDisplay(Display):\n",
    "\n",
    "    def _do(self, problem, evaluator, algorithm):\n",
    "        super()._do(problem, evaluator, algorithm)\n",
    "        self.output.append(\"metric_a\", np.mean(algorithm.pop.get(\"X\")))\n",
    "        self.output.append(\"metric_b\", np.mean(algorithm.pop.get(\"F\")))\n",
    "\n",
    "\n",
    "problem = get_problem(\"zdt2\")\n",
    "\n",
    "algorithm = NSGA2(pop_size=100)\n",
    "\n",
    "res = minimize(problem,\n",
    "               algorithm,\n",
    "               ('n_gen', 10),\n",
    "               seed=1,\n",
    "               display=MyDisplay(),\n",
    "               verbose=True)"
   ]
  },
  {
   "cell_type": "markdown",
   "metadata": {},
   "source": [
    "You have to inherit your custom display `MyDisplay` from the `Display` class for your own printout logic.\n",
    "The `_do` function will be called in each iteration, and the `Problem`, `Evaluator` and `Algorithm` are provided to you. For each column, you can add an entry to `self.output`, which will be formatted and then printed."
   ]
  }
 ],
 "metadata": {
  "kernelspec": {
   "display_name": "Python 3",
   "language": "python",
   "name": "python3"
  },
  "language_info": {
   "codemirror_mode": {
    "name": "ipython",
    "version": 3
   },
   "file_extension": ".py",
   "mimetype": "text/x-python",
   "name": "python",
   "nbconvert_exporter": "python",
   "pygments_lexer": "ipython3",
   "version": "3.9.7"
  }
 },
 "nbformat": 4,
 "nbformat_minor": 4
}

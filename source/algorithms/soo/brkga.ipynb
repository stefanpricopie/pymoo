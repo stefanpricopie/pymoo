{
 "cells": [
  {
   "cell_type": "raw",
   "metadata": {
    "raw_mimetype": "text/restructuredtext"
   },
   "source": [
    ".. _nb_brkga:"
   ]
  },
  {
   "cell_type": "markdown",
   "metadata": {},
   "source": [
    "# BRKGA: Biased Random Key Genetic Algorithm\n",
    "\n"
   ]
  },
  {
   "cell_type": "markdown",
   "metadata": {},
   "source": [
    "An excellent and very informative presentation about BRKGAs can be found [here](http://mauricio.resende.info/talks/2012-09-CLAIO2012-brkga-tutorial-both-days.pdf). BRKGAs are known to perform well-known on combinatorial problems."
   ]
  },
  {
   "cell_type": "markdown",
   "metadata": {},
   "source": [
    "<div style=\"display: block;margin-left: auto;margin-right: auto;width: 40%;\">\n",
    "![brkga](../../resources/images/brkga.png)\n",
    "</div>"
   ]
  },
  {
   "cell_type": "markdown",
   "metadata": {},
   "source": [
    "Instead of customizing evolutionary operators, decoding has to be defined. Therefore, evolution takes place solely on real-valued variables. \n",
    "\n",
    "Let us define a permutation problem which derives an order by sorting real-valued variables:"
   ]
  },
  {
   "cell_type": "code",
   "execution_count": 1,
   "metadata": {
    "execution": {
     "iopub.execute_input": "2021-09-14T16:24:16.081432Z",
     "iopub.status.busy": "2021-09-14T16:24:16.079817Z",
     "iopub.status.idle": "2021-09-14T16:24:16.172282Z",
     "shell.execute_reply": "2021-09-14T16:24:16.172865Z"
    },
    "tags": []
   },
   "outputs": [],
   "source": [
    "import numpy as np\n",
    "\n",
    "from pymoo.core.problem import ElementwiseProblem\n",
    "\n",
    "\n",
    "class MyProblem(ElementwiseProblem):\n",
    "\n",
    "    def __init__(self, my_list):\n",
    "        self.correct = np.argsort(my_list)\n",
    "        super().__init__(n_var=len(my_list), n_obj=1, n_constr=0, xl=0, xu=1)\n",
    "\n",
    "    def _evaluate(self, x, out, *args, **kwargs):\n",
    "        pheno = np.argsort(x)\n",
    "        out[\"F\"] = - float((self.correct == pheno).sum())\n",
    "        out[\"pheno\"] = pheno\n",
    "        out[\"hash\"] = hash(str(pheno))"
   ]
  },
  {
   "cell_type": "markdown",
   "metadata": {},
   "source": [
    "Since duplicate eliminates is an essential aspect for evolutionary algorithms, we have to make sure all duplicates with respect to the permutation (and not to the real values) are filtered out."
   ]
  },
  {
   "cell_type": "code",
   "execution_count": 2,
   "metadata": {
    "execution": {
     "iopub.execute_input": "2021-09-14T16:24:16.178444Z",
     "iopub.status.busy": "2021-09-14T16:24:16.177496Z",
     "iopub.status.idle": "2021-09-14T16:24:16.180323Z",
     "shell.execute_reply": "2021-09-14T16:24:16.180928Z"
    },
    "tags": []
   },
   "outputs": [],
   "source": [
    "from pymoo.core.duplicate import ElementwiseDuplicateElimination\n",
    "\n",
    "\n",
    "class MyElementwiseDuplicateElimination(ElementwiseDuplicateElimination):\n",
    "\n",
    "    def is_equal(self, a, b):\n",
    "        return a.get(\"hash\")[0] == b.get(\"hash\")[0]"
   ]
  },
  {
   "cell_type": "markdown",
   "metadata": {},
   "source": [
    "Then, we define a problem that has to sort a list by their values."
   ]
  },
  {
   "cell_type": "code",
   "execution_count": 3,
   "metadata": {
    "code": "algorithms/usage_brkga.py",
    "execution": {
     "iopub.execute_input": "2021-09-14T16:24:16.186133Z",
     "iopub.status.busy": "2021-09-14T16:24:16.185195Z",
     "iopub.status.idle": "2021-09-14T16:24:16.188955Z",
     "shell.execute_reply": "2021-09-14T16:24:16.189599Z"
    },
    "section": "problem"
   },
   "outputs": [
    {
     "name": "stdout",
     "output_type": "stream",
     "text": [
      "Sorted by [ 1 19 12 14  6  9  8  5  4  3  0 17 13 11  2  7 10 15 18 16]\n"
     ]
    }
   ],
   "source": [
    "np.random.seed(2)\n",
    "list_to_sort = np.random.random(20)\n",
    "problem = MyProblem(list_to_sort)\n",
    "print(\"Sorted by\", np.argsort(list_to_sort))"
   ]
  },
  {
   "cell_type": "markdown",
   "metadata": {},
   "source": [
    "Finally, we use `BRKGA` to obtain the sorted list:"
   ]
  },
  {
   "cell_type": "code",
   "execution_count": 4,
   "metadata": {
    "execution": {
     "iopub.execute_input": "2021-09-14T16:24:16.196644Z",
     "iopub.status.busy": "2021-09-14T16:24:16.195933Z",
     "iopub.status.idle": "2021-09-14T16:24:34.173940Z",
     "shell.execute_reply": "2021-09-14T16:24:34.174412Z"
    },
    "tags": []
   },
   "outputs": [
    {
     "name": "stdout",
     "output_type": "stream",
     "text": [
      "\n",
      "Compiled modules for significant speedup can not be used!\n",
      "https://pymoo.org/installation.html#installation\n",
      "\n",
      "To disable this warning:\n",
      "from pymoo.config import Config\n",
      "Config.show_compile_hint = False\n",
      "\n"
     ]
    },
    {
     "name": "stdout",
     "output_type": "stream",
     "text": [
      "Best solution found: \n",
      "X = [0.51206103 0.00224965 0.79002137 0.47237146 0.38661698 0.38485596\n",
      " 0.23421553 0.84539957 0.31563072 0.24961785 0.9110314  0.66628833\n",
      " 0.18519365 0.64654994 0.18658355 0.92810908 0.97691616 0.61557475\n",
      " 0.92812986 0.04386044]\n",
      "F = [-20.]\n",
      "Solution [ 1 19 12 14  6  9  8  5  4  3  0 17 13 11  2  7 10 15 18 16]\n",
      "Optimum  [ 1 19 12 14  6  9  8  5  4  3  0 17 13 11  2  7 10 15 18 16]\n"
     ]
    }
   ],
   "source": [
    "from pymoo.algorithms.soo.nonconvex.brkga import BRKGA\n",
    "from pymoo.optimize import minimize\n",
    "\n",
    "algorithm = BRKGA(\n",
    "    n_elites=200,\n",
    "    n_offsprings=700,\n",
    "    n_mutants=100,\n",
    "    bias=0.7,\n",
    "    eliminate_duplicates=MyElementwiseDuplicateElimination())\n",
    "\n",
    "res = minimize(problem,\n",
    "               algorithm,\n",
    "               (\"n_gen\", 75),\n",
    "               seed=1,\n",
    "               verbose=False)\n",
    "\n",
    "print(\"Best solution found: \\nX = %s\\nF = %s\" % (res.X, res.F))\n",
    "print(\"Solution\", res.opt.get(\"pheno\")[0])\n",
    "print(\"Optimum \", np.argsort(list_to_sort))"
   ]
  },
  {
   "cell_type": "markdown",
   "metadata": {},
   "source": [
    "### API"
   ]
  },
  {
   "cell_type": "raw",
   "metadata": {
    "raw_mimetype": "text/restructuredtext"
   },
   "source": [
    ".. autoclass:: pymoo.algorithms.soo.nonconvex.brkga.BRKGA\n",
    "    :noindex:"
   ]
  }
 ],
 "metadata": {
  "celltoolbar": "Raw Cell Format",
  "kernelspec": {
   "display_name": "Python 3",
   "language": "python",
   "name": "python3"
  },
  "language_info": {
   "codemirror_mode": {
    "name": "ipython",
    "version": 3
   },
   "file_extension": ".py",
   "mimetype": "text/x-python",
   "name": "python",
   "nbconvert_exporter": "python",
   "pygments_lexer": "ipython3",
   "version": "3.9.7"
  }
 },
 "nbformat": 4,
 "nbformat_minor": 4
}

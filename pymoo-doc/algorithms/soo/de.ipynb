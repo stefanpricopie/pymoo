{
 "cells": [
  {
   "cell_type": "raw",
   "metadata": {
    "raw_mimetype": "text/restructuredtext"
   },
   "source": [
    ".. _nb_de:"
   ]
  },
  {
   "cell_type": "markdown",
   "metadata": {},
   "source": [
    ".. meta::\n",
    "   :description: Differential Evolution (DE) is a genetic algorithm that uses the differentials between individuals to create the offspring population. Through the usage of differential, the recombination is rotation-invariant and self-adaptive."
   ]
  },
  {
   "cell_type": "markdown",
   "metadata": {},
   "source": [
    ".. meta::\n",
    "   :keywords: Differential Evolution, DE,  Multi-modal Optimization, Nature-inspired Algorithm, Single-objective Optimization, Python"
   ]
  },
  {
   "cell_type": "markdown",
   "metadata": {},
   "source": [
    "# DE: Differential Evolution"
   ]
  },
  {
   "cell_type": "markdown",
   "metadata": {},
   "source": [
    "The classical single-objective\n",
    "differential evolution algorithm <cite data-cite=\"de\"></cite> where different crossover variations\n",
    "and methods can be defined. It is known for its good results for\n",
    "global optimization.\n",
    "\n",
    "The differential evolution crossover is simply defined by:\n",
    "\n",
    "$$\n",
    "v = x_{\\pi_1} + F \\cdot (x_{\\pi_2} - x_{\\pi_3})\n",
    "$$\n",
    "\n",
    "where $\\pi$ is a random permutation with with 3 entries. The difference is taken between individual 2 and 3 and added to the first one. This is shown below:\n",
    "\n",
    "\n",
    "<div style=\"display: block;margin-left: auto;margin-right: auto;width: 50%;\">\n",
    "![de_crossover](../../resources/images/de_crossover.png)\n",
    "</div>\n",
    "\n",
    "\n",
    "Then, a second crossover between an individual and the so-called donor vector $v$ is performed. The second crossover can be simply binomial/uniform or exponential.\n",
    "\n",
    "\n",
    "\n",
    "A great tutorial and more detailed information can be found [here](https://web.archive.org/web/20190928024126/http://www1.icsi.berkeley.edu/~storn/code.html). The following guideline is copied from the description there (variable names are modified):\n",
    "\n",
    "If you are going to optimize your own objective function with DE, you may try the following classical settings for the input file first: Choose method e.g. DE/rand/1/bin, set the population size to 10 times the number of parameters, select weighting factor F=0.8, and crossover constant CR=0.9. \n",
    "Recently, it has been found that selecting F from the interval (0.5, 1.0) randomly for each generation or each difference vector, a technique called dither, improves convergence behavior significantly, especially for noisy objective functions. \n",
    "\n",
    "\n",
    "It has also been found that setting CR to a low value, e.g., `CR=0.2` helps to optimize separable functions since it fosters the search along the coordinate axes. On the contrary, this choice is not effective if parameter dependence is encountered, which frequently occurs in real-world optimization problems rather than artificial test functions. So for parameter dependence, the choice of `CR=0.9` is more appropriate. Another interesting empirical finding is that raising NP above, say, 40 does not substantially improve the convergence, independent of the number of parameters. It is worthwhile to experiment with these suggestions. Ensure that you initialize your parameter vectors by exploiting their full numerical range, i.e., if a parameter is allowed to exhibit values in the range (-100, 100), it is a good idea to pick the initial values from this range instead of unnecessarily restricting diversity.\n",
    "\n",
    "\n",
    "Keep in mind that different problems often require different settings for NP, F, and CR (have a look into the different papers to get a feeling for the settings). If you still get misconvergence, you might want to try a different method. We mostly use 'DE/rand/1/...' or 'DE/best/1/...'. The crossover method is not so crucial, although Ken Price claims that binomial is never worse than exponential. In the case of misconvergence, also check your choice of objective function. There might be a better one to describe your problem. Any knowledge that you have about the problem should be worked into the objective function. A good objective function can make all the difference.\n",
    "\n",
    "And this is how DE can be used:"
   ]
  },
  {
   "cell_type": "code",
   "execution_count": 1,
   "metadata": {
    "execution": {
     "iopub.execute_input": "2021-09-14T16:23:15.752094Z",
     "iopub.status.busy": "2021-09-14T16:23:15.751524Z",
     "iopub.status.idle": "2021-09-14T16:23:19.240183Z",
     "shell.execute_reply": "2021-09-14T16:23:19.240699Z"
    },
    "tags": []
   },
   "outputs": [
    {
     "name": "stdout",
     "output_type": "stream",
     "text": [
      "\n",
      "Compiled modules for significant speedup can not be used!\n",
      "https://pymoo.org/installation.html#installation\n",
      "\n",
      "To disable this warning:\n",
      "from pymoo.config import Config\n",
      "Config.show_compile_hint = False\n",
      "\n"
     ]
    },
    {
     "name": "stdout",
     "output_type": "stream",
     "text": [
      "Best solution found: \n",
      "X = [ 2.07748676e-07  1.76803554e-07  4.19046439e-07 -7.33375135e-08\n",
      "  1.11255737e-07  2.66003799e-07 -8.90155912e-08  2.02741800e-07\n",
      "  2.66865482e-07  2.70503372e-07]\n",
      "F = [9.22564873e-07]\n"
     ]
    }
   ],
   "source": [
    "from pymoo.algorithms.soo.nonconvex.de import DE\n",
    "from pymoo.factory import get_problem\n",
    "from pymoo.operators.sampling.lhs import LHS\n",
    "from pymoo.optimize import minimize\n",
    "\n",
    "\n",
    "problem = get_problem(\"ackley\", n_var=10)\n",
    "\n",
    "\n",
    "algorithm = DE(\n",
    "    pop_size=100,\n",
    "    sampling=LHS(),\n",
    "    variant=\"DE/rand/1/bin\",\n",
    "    CR=0.3,\n",
    "    dither=\"vector\",\n",
    "    jitter=False\n",
    ")\n",
    "\n",
    "res = minimize(problem,\n",
    "               algorithm,\n",
    "               seed=1,\n",
    "               verbose=False)\n",
    "\n",
    "print(\"Best solution found: \\nX = %s\\nF = %s\" % (res.X, res.F))"
   ]
  },
  {
   "cell_type": "markdown",
   "metadata": {},
   "source": [
    "### API"
   ]
  },
  {
   "cell_type": "raw",
   "metadata": {
    "raw_mimetype": "text/restructuredtext"
   },
   "source": [
    ".. autoclass:: pymoo.algorithms.soo.nonconvex.de.DE\n",
    "    :noindex:"
   ]
  }
 ],
 "metadata": {
  "celltoolbar": "Raw Cell Format",
  "kernelspec": {
   "display_name": "Python 3",
   "language": "python",
   "name": "python3"
  },
  "language_info": {
   "codemirror_mode": {
    "name": "ipython",
    "version": 3
   },
   "file_extension": ".py",
   "mimetype": "text/x-python",
   "name": "python",
   "nbconvert_exporter": "python",
   "pygments_lexer": "ipython3",
   "version": "3.9.7"
  }
 },
 "nbformat": 4,
 "nbformat_minor": 4
}

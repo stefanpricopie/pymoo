{
 "cells": [
  {
   "cell_type": "raw",
   "metadata": {
    "raw_mimetype": "text/restructuredtext"
   },
   "source": [
    ".. _nb_interface_termination:"
   ]
  },
  {
   "cell_type": "markdown",
   "metadata": {},
   "source": [
    "## Termination Criterion"
   ]
  },
  {
   "cell_type": "markdown",
   "metadata": {},
   "source": [
    "Whenever an algorithm is executed, it needs to be decided in each iteration whether the optimization run shall be continued or not.\n",
    "Many different ways exist of how to determine when a run of an algorithm should be terminated. Next, termination criteria specifically developed for single or multi-objective optimization as well as more generalized, for instance, limiting the number of iterations of an algorithm, are described "
   ]
  },
  {
   "cell_type": "raw",
   "metadata": {
    "raw_mimetype": "text/restructuredtext"
   },
   "source": [
    ".. admonition:: Tip\n",
    "    :class: myOwnStyle\n",
    "\n",
    "    The termination of your optimization procedure is **essential**. Running the algorithm not long enough can lead to unsatisfactory results; however, running it too long might waste function evaluations and thus computational resources."
   ]
  },
  {
   "cell_type": "markdown",
   "metadata": {},
   "source": [
    "### Default Termination ('default')"
   ]
  },
  {
   "cell_type": "markdown",
   "metadata": {},
   "source": [
    "We have added recently developed a termination criterion set if no termination is supplied to the `minimize()` method:"
   ]
  },
  {
   "cell_type": "code",
   "execution_count": 1,
   "metadata": {
    "execution": {
     "iopub.execute_input": "2021-09-14T16:18:11.969580Z",
     "iopub.status.busy": "2021-09-14T16:18:11.968806Z",
     "iopub.status.idle": "2021-09-14T16:18:15.520649Z",
     "shell.execute_reply": "2021-09-14T16:18:15.521141Z"
    },
    "tags": []
   },
   "outputs": [
    {
     "name": "stdout",
     "output_type": "stream",
     "text": [
      "\n",
      "Compiled modules for significant speedup can not be used!\n",
      "https://pymoo.org/installation.html#installation\n",
      "\n",
      "To disable this warning:\n",
      "from pymoo.config import Config\n",
      "Config.show_compile_hint = False\n",
      "\n"
     ]
    },
    {
     "name": "stdout",
     "output_type": "stream",
     "text": [
      "150\n"
     ]
    }
   ],
   "source": [
    "from pymoo.algorithms.moo.nsga2 import NSGA2\n",
    "from pymoo.factory import get_problem\n",
    "from pymoo.optimize import minimize\n",
    "\n",
    "problem = get_problem(\"zdt1\")\n",
    "algorithm = NSGA2(pop_size=100)\n",
    "\n",
    "res = minimize(problem,\n",
    "               algorithm,\n",
    "               seed=1)\n",
    "\n",
    "print(res.algorithm.n_gen)"
   ]
  },
  {
   "cell_type": "markdown",
   "metadata": {},
   "source": [
    "This allows you to terminated based on a couple of criteria also explained later on this page. \n",
    "Commonly used are the movement in the design space `f_tol` and the convergence in the constraint `cv_tol` and objective space `f_tol`.\n",
    "To provide an upper bound for the algorithm, we recommend supplying a maximum number of generations `n_max_gen` or function evaluations `n_max_evals`.\n",
    "\n",
    "Moreover, it is worth mentioning that tolerance termination is based on a sliding window. Not only the last, but a sequence of the `n_last` generations are used to calculate compare the tolerances with an bound defined by the user."
   ]
  },
  {
   "cell_type": "markdown",
   "metadata": {},
   "source": [
    "By default for multi-objective problems, the termination will be set to"
   ]
  },
  {
   "cell_type": "code",
   "execution_count": 2,
   "metadata": {
    "execution": {
     "iopub.execute_input": "2021-09-14T16:18:15.526274Z",
     "iopub.status.busy": "2021-09-14T16:18:15.525687Z",
     "iopub.status.idle": "2021-09-14T16:18:15.527991Z",
     "shell.execute_reply": "2021-09-14T16:18:15.527560Z"
    }
   },
   "outputs": [],
   "source": [
    "from pymoo.util.termination.default import MultiObjectiveDefaultTermination\n",
    "\n",
    "termination = MultiObjectiveDefaultTermination(\n",
    "    x_tol=1e-8, \n",
    "    cv_tol=1e-6, \n",
    "    f_tol=0.0025, \n",
    "    nth_gen=5, \n",
    "    n_last=30,\n",
    "    n_max_gen=1000,\n",
    "    n_max_evals=100000\n",
    ")"
   ]
  },
  {
   "cell_type": "markdown",
   "metadata": {},
   "source": [
    "And for single-optimization to"
   ]
  },
  {
   "cell_type": "code",
   "execution_count": 3,
   "metadata": {
    "execution": {
     "iopub.execute_input": "2021-09-14T16:18:15.532437Z",
     "iopub.status.busy": "2021-09-14T16:18:15.531838Z",
     "iopub.status.idle": "2021-09-14T16:18:15.533593Z",
     "shell.execute_reply": "2021-09-14T16:18:15.534064Z"
    }
   },
   "outputs": [],
   "source": [
    "from pymoo.util.termination.default import SingleObjectiveDefaultTermination\n",
    "\n",
    "termination = SingleObjectiveDefaultTermination(\n",
    "    x_tol=1e-8, \n",
    "    cv_tol=1e-6, \n",
    "    f_tol=1e-6, \n",
    "    nth_gen=5, \n",
    "    n_last=20,\n",
    "    n_max_gen=1000,\n",
    "    n_max_evals=100000\n",
    ")"
   ]
  },
  {
   "cell_type": "raw",
   "metadata": {
    "raw_mimetype": "text/restructuredtext"
   },
   "source": [
    ".. _nb_n_eval:"
   ]
  },
  {
   "cell_type": "markdown",
   "metadata": {},
   "source": [
    "### Number of Evaluations ('n_eval')"
   ]
  },
  {
   "cell_type": "markdown",
   "metadata": {},
   "source": [
    "The termination can simply be reached by providing an upper bound for the number of function evaluations. Whenever in an iteration, the number of function evaluations is greater than this upper bound the algorithm terminates."
   ]
  },
  {
   "cell_type": "code",
   "execution_count": 4,
   "metadata": {
    "execution": {
     "iopub.execute_input": "2021-09-14T16:18:15.539349Z",
     "iopub.status.busy": "2021-09-14T16:18:15.538703Z",
     "iopub.status.idle": "2021-09-14T16:18:15.605989Z",
     "shell.execute_reply": "2021-09-14T16:18:15.605533Z"
    },
    "tags": []
   },
   "outputs": [
    {
     "name": "stdout",
     "output_type": "stream",
     "text": [
      "============================================================\n",
      "n_gen |  n_eval |     igd      |      gd      |      hv     \n",
      "============================================================\n",
      "    1 |     100 |  1.304648356 |  1.530191068 |  0.00000E+00\n",
      "    2 |     200 |  1.304200356 |  1.517648901 |  0.00000E+00\n",
      "    3 |     300 |  0.988539101 |  1.378914374 |  0.00000E+00\n"
     ]
    }
   ],
   "source": [
    "from pymoo.algorithms.moo.nsga2 import NSGA2\n",
    "from pymoo.factory import get_problem, get_termination\n",
    "from pymoo.optimize import minimize\n",
    "\n",
    "problem = get_problem(\"zdt3\")\n",
    "algorithm = NSGA2(pop_size=100)\n",
    "termination = get_termination(\"n_eval\", 300)\n",
    "\n",
    "res = minimize(problem,\n",
    "               algorithm,\n",
    "               termination,\n",
    "               pf=problem.pareto_front(),\n",
    "               seed=1,\n",
    "               verbose=True)"
   ]
  },
  {
   "cell_type": "raw",
   "metadata": {
    "raw_mimetype": "text/restructuredtext"
   },
   "source": [
    ".. _nb_n_gen:"
   ]
  },
  {
   "cell_type": "markdown",
   "metadata": {},
   "source": [
    "### Number of Generations ('n_gen')"
   ]
  },
  {
   "cell_type": "markdown",
   "metadata": {},
   "source": [
    "Moreover, the number of generations / iterations can be limited as well. "
   ]
  },
  {
   "cell_type": "code",
   "execution_count": 5,
   "metadata": {
    "execution": {
     "iopub.execute_input": "2021-09-14T16:18:15.613862Z",
     "iopub.status.busy": "2021-09-14T16:18:15.613210Z",
     "iopub.status.idle": "2021-09-14T16:18:15.840074Z",
     "shell.execute_reply": "2021-09-14T16:18:15.840501Z"
    },
    "tags": []
   },
   "outputs": [
    {
     "name": "stdout",
     "output_type": "stream",
     "text": [
      "============================================================\n",
      "n_gen |  n_eval |     igd      |      gd      |      hv     \n",
      "============================================================\n",
      "    1 |     100 |  1.304648356 |  1.530191068 |  0.00000E+00\n",
      "    2 |     200 |  1.304200356 |  1.517648901 |  0.00000E+00\n",
      "    3 |     300 |  0.988539101 |  1.378914374 |  0.00000E+00\n",
      "    4 |     400 |  0.920567183 |  1.351594290 |  0.00000E+00\n"
     ]
    },
    {
     "name": "stdout",
     "output_type": "stream",
     "text": [
      "    5 |     500 |  0.920567183 |  1.282794381 |  0.00000E+00\n",
      "    6 |     600 |  0.894035691 |  1.360904372 |  0.00000E+00\n"
     ]
    },
    {
     "name": "stdout",
     "output_type": "stream",
     "text": [
      "    7 |     700 |  0.817395517 |  1.280727114 |  0.00000E+00\n",
      "    8 |     800 |  0.802167697 |  1.189542707 |  0.00000E+00\n",
      "    9 |     900 |  0.730335663 |  0.993344639 |  0.002211246\n"
     ]
    },
    {
     "name": "stdout",
     "output_type": "stream",
     "text": [
      "   10 |    1000 |  0.699750404 |  0.851632873 |  0.002211246\n"
     ]
    }
   ],
   "source": [
    "from pymoo.algorithms.moo.nsga2 import NSGA2\n",
    "from pymoo.factory import get_problem, get_termination\n",
    "from pymoo.optimize import minimize\n",
    "\n",
    "problem = get_problem(\"zdt3\")\n",
    "algorithm = NSGA2(pop_size=100)\n",
    "termination = get_termination(\"n_gen\", 10)\n",
    "\n",
    "res = minimize(problem,\n",
    "               algorithm,\n",
    "               termination,\n",
    "               pf=problem.pareto_front(),\n",
    "               seed=1,\n",
    "               verbose=True)"
   ]
  },
  {
   "cell_type": "raw",
   "metadata": {
    "raw_mimetype": "text/restructuredtext"
   },
   "source": [
    ".. _nb_time:"
   ]
  },
  {
   "cell_type": "markdown",
   "metadata": {},
   "source": [
    "### Based on Time ('time')"
   ]
  },
  {
   "cell_type": "markdown",
   "metadata": {},
   "source": [
    "The termination can also be based on the time of the algorithm to be executed. For instance, to run an algorithm for 3 seconds the termination can be defined by `get_termination(\"time\", \"00:00:03\")` or for 1 hour and 30 minutes by `get_termination(\"time\", \"01:30:00\")`."
   ]
  },
  {
   "cell_type": "code",
   "execution_count": 6,
   "metadata": {
    "execution": {
     "iopub.execute_input": "2021-09-14T16:18:15.848393Z",
     "iopub.status.busy": "2021-09-14T16:18:15.847668Z",
     "iopub.status.idle": "2021-09-14T16:18:18.867757Z",
     "shell.execute_reply": "2021-09-14T16:18:18.868162Z"
    },
    "tags": []
   },
   "outputs": [
    {
     "name": "stdout",
     "output_type": "stream",
     "text": [
      "155\n"
     ]
    }
   ],
   "source": [
    "from pymoo.algorithms.moo.nsga2 import NSGA2\n",
    "from pymoo.factory import get_problem, get_termination\n",
    "from pymoo.optimize import minimize\n",
    "\n",
    "problem = get_problem(\"zdt3\")\n",
    "algorithm = NSGA2(pop_size=100)\n",
    "termination = get_termination(\"time\", \"00:00:03\")\n",
    "\n",
    "res = minimize(problem,\n",
    "               algorithm,\n",
    "               termination,\n",
    "               pf=problem.pareto_front(),\n",
    "               seed=1,\n",
    "               verbose=False)\n",
    "\n",
    "print(res.algorithm.n_gen)\n"
   ]
  },
  {
   "cell_type": "raw",
   "metadata": {
    "raw_mimetype": "text/restructuredtext"
   },
   "source": [
    ".. _nb_xtol:"
   ]
  },
  {
   "cell_type": "markdown",
   "metadata": {},
   "source": [
    "### Design Space Tolerance ('x_tol')\n"
   ]
  },
  {
   "cell_type": "markdown",
   "metadata": {},
   "source": [
    "Also, we can track the change in the design space. For a parameter explanation, please have a look at 'ftol'."
   ]
  },
  {
   "cell_type": "code",
   "execution_count": 7,
   "metadata": {
    "execution": {
     "iopub.execute_input": "2021-09-14T16:18:18.876227Z",
     "iopub.status.busy": "2021-09-14T16:18:18.875546Z",
     "iopub.status.idle": "2021-09-14T16:18:22.416111Z",
     "shell.execute_reply": "2021-09-14T16:18:22.416571Z"
    },
    "tags": []
   },
   "outputs": [
    {
     "name": "stdout",
     "output_type": "stream",
     "text": [
      "167\n"
     ]
    }
   ],
   "source": [
    "from pymoo.algorithms.moo.nsga2 import NSGA2\n",
    "from pymoo.factory import get_problem\n",
    "from pymoo.optimize import minimize\n",
    "from pymoo.util.termination.x_tol import DesignSpaceToleranceTermination\n",
    "\n",
    "problem = get_problem(\"zdt3\")\n",
    "algorithm = NSGA2(pop_size=100)\n",
    "termination = DesignSpaceToleranceTermination(tol=0.0025, n_last=20)\n",
    "\n",
    "res = minimize(problem,\n",
    "               algorithm,\n",
    "               termination,\n",
    "               pf=problem.pareto_front(),\n",
    "               seed=1,\n",
    "               verbose=False)\n",
    "\n",
    "print(res.algorithm.n_gen)\n"
   ]
  },
  {
   "cell_type": "raw",
   "metadata": {
    "raw_mimetype": "text/restructuredtext"
   },
   "source": [
    ".. _nb_ftol:"
   ]
  },
  {
   "cell_type": "markdown",
   "metadata": {},
   "source": [
    "### Objective Space Tolerance ('f_tol')\n",
    "\n",
    "The most interesting stopping criterion is to use objective space change to decide whether to terminate the algorithm. Here, we mostly use a simple and efficient procedure to determine whether to stop or not. We aim to improve it further in the future. If somebody is interested in collaborating, please let us know.\n",
    "\n",
    "The parameters of our implementation are:\n",
    "\n",
    "**tol**: What is the tolerance in the objective space on average. If the value is below this bound, we terminate.\n",
    "\n",
    "**n_last**: To make the criterion more robust, we consider the last $n$ generations and take the maximum. This considers the worst case in a window.\n",
    "\n",
    "**n_max_gen**: As a fallback, the generation number can be used. For some problems, the termination criterion might not be reached; however, an upper bound for generations can be defined to stop in that case.\n",
    "\n",
    "**nth_gen**: Defines whenever the termination criterion is calculated by default, every 10th generation."
   ]
  },
  {
   "cell_type": "code",
   "execution_count": 8,
   "metadata": {
    "execution": {
     "iopub.execute_input": "2021-09-14T16:18:22.423158Z",
     "iopub.status.busy": "2021-09-14T16:18:22.422558Z",
     "iopub.status.idle": "2021-09-14T16:18:26.187670Z",
     "shell.execute_reply": "2021-09-14T16:18:26.187227Z"
    },
    "tags": []
   },
   "outputs": [
    {
     "name": "stdout",
     "output_type": "stream",
     "text": [
      "Generations 165\n"
     ]
    },
    {
     "data": {
      "text/plain": [
       "<pymoo.visualization.scatter.Scatter at 0x11312c1c0>"
      ]
     },
     "execution_count": 8,
     "metadata": {},
     "output_type": "execute_result"
    },
    {
     "data": {
      "image/png": "[encoded data removed]",
      "text/plain": [
       "<Figure size 576x432 with 1 Axes>"
      ]
     },
     "metadata": {
      "image/png": {
       "height": 387,
       "width": 513
      },
      "needs_background": "light"
     },
     "output_type": "display_data"
    }
   ],
   "source": [
    "from pymoo.algorithms.moo.nsga2 import NSGA2\n",
    "from pymoo.factory import get_problem\n",
    "from pymoo.optimize import minimize\n",
    "from pymoo.util.termination.f_tol import MultiObjectiveSpaceToleranceTermination\n",
    "from pymoo.visualization.scatter import Scatter\n",
    "\n",
    "problem = get_problem(\"zdt3\")\n",
    "algorithm = NSGA2(pop_size=100)\n",
    "termination = MultiObjectiveSpaceToleranceTermination(tol=0.0025,\n",
    "                                                      n_last=30,\n",
    "                                                      nth_gen=5,\n",
    "                                                      n_max_gen=None,\n",
    "                                                      n_max_evals=None)\n",
    "\n",
    "res = minimize(problem,\n",
    "               algorithm,\n",
    "               termination,\n",
    "               pf=True,\n",
    "               seed=1,\n",
    "               verbose=False)\n",
    "\n",
    "print(\"Generations\", res.algorithm.n_gen)\n",
    "plot = Scatter(title=\"ZDT3\")\n",
    "plot.add(problem.pareto_front(use_cache=False, flatten=False), plot_type=\"line\", color=\"black\")\n",
    "plot.add(res.F, facecolor=\"none\", edgecolor=\"red\", alpha=0.8, s=20)\n",
    "plot.show()\n"
   ]
  }
 ],
 "metadata": {
  "celltoolbar": "Raw Cell Format",
  "kernelspec": {
   "display_name": "Python 3",
   "language": "python",
   "name": "python3"
  },
  "language_info": {
   "codemirror_mode": {
    "name": "ipython",
    "version": 3
   },
   "file_extension": ".py",
   "mimetype": "text/x-python",
   "name": "python",
   "nbconvert_exporter": "python",
   "pygments_lexer": "ipython3",
   "version": "3.9.7"
  }
 },
 "nbformat": 4,
 "nbformat_minor": 4
}

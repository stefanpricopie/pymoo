{
 "cells": [
  {
   "cell_type": "raw",
   "metadata": {
    "raw_mimetype": "text/restructuredtext"
   },
   "source": [
    ".. _nb_wfg:"
   ]
  },
  {
   "cell_type": "markdown",
   "metadata": {},
   "source": [
    "# WFG\n",
    "\n",
    "WFG1 to WFG9 are available."
   ]
  },
  {
   "cell_type": "code",
   "execution_count": 1,
   "metadata": {
    "execution": {
     "iopub.execute_input": "2021-09-03T17:47:37.755584Z",
     "iopub.status.busy": "2021-09-03T17:47:37.754757Z",
     "iopub.status.idle": "2021-09-03T17:47:37.841379Z",
     "shell.execute_reply": "2021-09-03T17:47:37.841845Z"
    }
   },
   "outputs": [],
   "source": [
    "from pymoo.problems.many.wfg import WFG1\n",
    "wfg = WFG1(n_var=10, n_obj=3)"
   ]
  }
 ],
 "metadata": {
  "kernelspec": {
   "display_name": "Python 3",
   "language": "python",
   "name": "python3"
  },
  "language_info": {
   "codemirror_mode": {
    "name": "ipython",
    "version": 3
   },
   "file_extension": ".py",
   "mimetype": "text/x-python",
   "name": "python",
   "nbconvert_exporter": "python",
   "pygments_lexer": "ipython3",
   "version": "3.9.7"
  }
 },
 "nbformat": 4,
 "nbformat_minor": 4
}

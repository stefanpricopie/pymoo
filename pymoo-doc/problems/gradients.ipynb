{
 "cells": [
  {
   "cell_type": "raw",
   "metadata": {
    "raw_mimetype": "text/restructuredtext"
   },
   "source": [
    ".. _nb_gradients:"
   ]
  },
  {
   "cell_type": "markdown",
   "metadata": {},
   "source": [
    "# Gradients"
   ]
  },
  {
   "cell_type": "markdown",
   "metadata": {},
   "source": [
    "If the problem is implemented using autograd then the gradients through automatic differentiation are available out of the box. Let us consider the following problem definition for a simple quadratic function without any constraints:"
   ]
  },
  {
   "cell_type": "code",
   "execution_count": 1,
   "metadata": {
    "execution": {
     "iopub.execute_input": "2021-09-14T16:24:45.023006Z",
     "iopub.status.busy": "2021-09-14T16:24:45.021877Z",
     "iopub.status.idle": "2021-09-14T16:24:45.163194Z",
     "shell.execute_reply": "2021-09-14T16:24:45.163939Z"
    },
    "tags": []
   },
   "outputs": [],
   "source": [
    "import autograd.numpy as anp\n",
    "\n",
    "from pymoo.core.problem import Problem\n",
    "from pymoo.problems.bounds_as_constr import BoundariesAsConstraints\n",
    "from pymoo.problems.autodiff import AutomaticDifferentiation\n",
    "\n",
    "class MyProblem(Problem):\n",
    "\n",
    "    def __init__(self):\n",
    "        super().__init__(n_var=10, n_obj=1, n_constr=0, xl=-5, xu=5)\n",
    "\n",
    "    def _evaluate(self, x, out, *args, **kwargs):\n",
    "         out[\"F\"] = anp.sum(anp.power(x, 2), axis=1) \n",
    "            \n",
    "\n",
    "problem = AutomaticDifferentiation(MyProblem())"
   ]
  },
  {
   "cell_type": "markdown",
   "metadata": {},
   "source": [
    "The gradients can be retrieved by appending `F` to the `return_values_of` parameter:"
   ]
  },
  {
   "cell_type": "code",
   "execution_count": 2,
   "metadata": {
    "execution": {
     "iopub.execute_input": "2021-09-14T16:24:45.173645Z",
     "iopub.status.busy": "2021-09-14T16:24:45.172456Z",
     "iopub.status.idle": "2021-09-14T16:24:45.175360Z",
     "shell.execute_reply": "2021-09-14T16:24:45.176535Z"
    },
    "tags": []
   },
   "outputs": [],
   "source": [
    "X = anp.array([anp.arange(10)])\n",
    "F, dF = problem.evaluate(X, return_values_of=[\"F\", \"dF\"])"
   ]
  },
  {
   "cell_type": "markdown",
   "metadata": {},
   "source": [
    "The resulting gradients are stored in `dF` and the shape is (n_rows, n_objective, n_vars):"
   ]
  },
  {
   "cell_type": "code",
   "execution_count": 3,
   "metadata": {
    "execution": {
     "iopub.execute_input": "2021-09-14T16:24:45.184724Z",
     "iopub.status.busy": "2021-09-14T16:24:45.183545Z",
     "iopub.status.idle": "2021-09-14T16:24:45.187276Z",
     "shell.execute_reply": "2021-09-14T16:24:45.188026Z"
    },
    "tags": []
   },
   "outputs": [
    {
     "name": "stdout",
     "output_type": "stream",
     "text": [
      "[[0 1 2 3 4 5 6 7 8 9]] [[285.]]\n",
      "(1, 1, 10)\n",
      "[[[ 0.  2.  4.  6.  8. 10. 12. 14. 16. 18.]]]\n"
     ]
    }
   ],
   "source": [
    "print(X, F)\n",
    "\n",
    "print(dF.shape)\n",
    "print(dF)"
   ]
  },
  {
   "cell_type": "markdown",
   "metadata": {},
   "source": [
    "Analogously, the gradient of constraints can be retrieved by appending `dG`."
   ]
  }
 ],
 "metadata": {
  "kernelspec": {
   "display_name": "Python 3",
   "language": "python",
   "name": "python3"
  },
  "language_info": {
   "codemirror_mode": {
    "name": "ipython",
    "version": 3
   },
   "file_extension": ".py",
   "mimetype": "text/x-python",
   "name": "python",
   "nbconvert_exporter": "python",
   "pygments_lexer": "ipython3",
   "version": "3.9.7"
  }
 },
 "nbformat": 4,
 "nbformat_minor": 4
}

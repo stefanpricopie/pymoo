{
 "cells": [
  {
   "cell_type": "markdown",
   "metadata": {
    "raw_mimetype": "text/restructuredtext"
   },
   "source": [
    ".. _nb_subset_selection:"
   ]
  },
  {
   "cell_type": "markdown",
   "metadata": {},
   "source": [
    "## Subset Selection Problem\n",
    "\n",
    "A genetic algorithm can be used to approach subset selection problems by defining custom operators. In general, a metaheuristic algorithm might not be the ultimate goal to implement in a real-world scenario; however, it might be useful to investigate patterns or characteristics of possible well-performing subsets. \n",
    "Let us consider a simple toy problem where we have to select numbers from a list. For every solution, exactly ten numbers have to be selected that their sum is minimized.\n",
    "For the subset selection problem, a binary encoding can be used where **one** indicates a number is picked. In our problem formulation, the list of numbers is represented by $L$ and the binary encoded variable by $x$."
   ]
  },
  {
   "cell_type": "markdown",
   "metadata": {},
   "source": [
    "\n",
    "\\begin{align}\n",
    "\\begin{split}\n",
    "\\min f(x) & = & \\sum_{k=1}^{n} L_k \\cdot x_k\\\\[2mm]\n",
    "\\text{s.t.} \\quad g(x)  & = & (\\sum_{k=1}^{n} x_k - 10)^2\\\\[2mm]\n",
    "\\end{split}\n",
    "\\end{align}\n"
   ]
  },
  {
   "cell_type": "markdown",
   "metadata": {},
   "source": [
    "As shown above, the equality constraint is handled by ensuring $g(x)$ can only be zero if exactly ten numbers are chosen.\n",
    "The problem can be implemented as follows:"
   ]
  },
  {
   "cell_type": "code",
   "execution_count": 1,
   "metadata": {
    "execution": {
     "iopub.execute_input": "2021-09-14T16:19:01.538118Z",
     "iopub.status.busy": "2021-09-14T16:19:01.537442Z",
     "iopub.status.idle": "2021-09-14T16:19:01.638586Z",
     "shell.execute_reply": "2021-09-14T16:19:01.639136Z"
    }
   },
   "outputs": [],
   "source": [
    "import numpy as np\n",
    "from pymoo.core.problem import ElementwiseProblem\n",
    "\n",
    "class SubsetProblem(ElementwiseProblem):\n",
    "    def __init__(self,\n",
    "                 L,\n",
    "                 n_max\n",
    "                 ):\n",
    "        super().__init__(n_var=len(L), n_obj=1, n_constr=1)\n",
    "        self.L = L\n",
    "        self.n_max = n_max\n",
    "\n",
    "    def _evaluate(self, x, out, *args, **kwargs):\n",
    "        out[\"F\"] = np.sum(self.L[x])\n",
    "        out[\"G\"] = (self.n_max - np.sum(x)) ** 2\n",
    "    \n",
    "    \n",
    "# create the actual problem to be solved\n",
    "np.random.seed(1)\n",
    "L = np.array([np.random.randint(100) for _ in range(100)])\n",
    "n_max = 10\n",
    "problem = SubsetProblem(L, n_max)\n"
   ]
  },
  {
   "cell_type": "markdown",
   "metadata": {},
   "source": [
    "The customization requires writing custom operators in order to solve this problem efficiently. We recommend considering the feasibility directly in the evolutionary operators because otherwise, most of the time, infeasible solutions will be processed.\n",
    "The sampling creates a random solution where the subset constraint will always be satisfied. \n",
    "The mutation randomly removes a number and chooses another one. The crossover takes the values of both parents and then randomly picks either the one from the first or from the second parent until enough numbers are picked."
   ]
  },
  {
   "cell_type": "code",
   "execution_count": 2,
   "metadata": {
    "execution": {
     "iopub.execute_input": "2021-09-14T16:19:01.651352Z",
     "iopub.status.busy": "2021-09-14T16:19:01.650465Z",
     "iopub.status.idle": "2021-09-14T16:19:01.654201Z",
     "shell.execute_reply": "2021-09-14T16:19:01.654747Z"
    }
   },
   "outputs": [],
   "source": [
    "from pymoo.core.crossover import Crossover\n",
    "from pymoo.core.mutation import Mutation\n",
    "from pymoo.core.sampling import Sampling\n",
    "\n",
    "\n",
    "class MySampling(Sampling):\n",
    "\n",
    "    def _do(self, problem, n_samples, **kwargs):\n",
    "        X = np.full((n_samples, problem.n_var), False, dtype=bool)\n",
    "\n",
    "        for k in range(n_samples):\n",
    "            I = np.random.permutation(problem.n_var)[:problem.n_max]\n",
    "            X[k, I] = True\n",
    "\n",
    "        return X\n",
    "\n",
    "\n",
    "class BinaryCrossover(Crossover):\n",
    "    def __init__(self):\n",
    "        super().__init__(2, 1)\n",
    "\n",
    "    def _do(self, problem, X, **kwargs):\n",
    "        n_parents, n_matings, n_var = X.shape\n",
    "\n",
    "        _X = np.full((self.n_offsprings, n_matings, problem.n_var), False)\n",
    "\n",
    "        for k in range(n_matings):\n",
    "            p1, p2 = X[0, k], X[1, k]\n",
    "\n",
    "            both_are_true = np.logical_and(p1, p2)\n",
    "            _X[0, k, both_are_true] = True\n",
    "\n",
    "            n_remaining = problem.n_max - np.sum(both_are_true)\n",
    "\n",
    "            I = np.where(np.logical_xor(p1, p2))[0]\n",
    "\n",
    "            S = I[np.random.permutation(len(I))][:n_remaining]\n",
    "            _X[0, k, S] = True\n",
    "\n",
    "        return _X\n",
    "\n",
    "\n",
    "class MyMutation(Mutation):\n",
    "    def _do(self, problem, X, **kwargs):\n",
    "        for i in range(X.shape[0]):\n",
    "            X[i, :] = X[i, :]\n",
    "            is_false = np.where(np.logical_not(X[i, :]))[0]\n",
    "            is_true = np.where(X[i, :])[0]\n",
    "            X[i, np.random.choice(is_false)] = True\n",
    "            X[i, np.random.choice(is_true)] = False\n",
    "\n",
    "        return X"
   ]
  },
  {
   "cell_type": "markdown",
   "metadata": {},
   "source": [
    "After having defined the operators a genetic algorithm can be initialized."
   ]
  },
  {
   "cell_type": "code",
   "execution_count": 3,
   "metadata": {
    "execution": {
     "iopub.execute_input": "2021-09-14T16:19:01.660707Z",
     "iopub.status.busy": "2021-09-14T16:19:01.659835Z",
     "iopub.status.idle": "2021-09-14T16:19:02.999830Z",
     "shell.execute_reply": "2021-09-14T16:19:03.000241Z"
    }
   },
   "outputs": [
    {
     "name": "stdout",
     "output_type": "stream",
     "text": [
      "\n",
      "Compiled modules for significant speedup can not be used!\n",
      "https://pymoo.org/installation.html#installation\n",
      "\n",
      "To disable this warning:\n",
      "from pymoo.config import Config\n",
      "Config.show_compile_hint = False\n",
      "\n",
      "===========================================================================\n",
      "n_gen |  n_eval |   cv (min)   |   cv (avg)   |     fopt     |     favg    \n",
      "===========================================================================\n",
      "    1 |     100 |  0.00000E+00 |  0.00000E+00 |  2.58000E+02 |  4.43940E+02\n",
      "    2 |     200 |  0.00000E+00 |  0.00000E+00 |  1.85000E+02 |  3.49800E+02\n",
      "    3 |     300 |  0.00000E+00 |  0.00000E+00 |  1.59000E+02 |  3.01110E+02\n",
      "    4 |     400 |  0.00000E+00 |  0.00000E+00 |  1.49000E+02 |  2.60290E+02\n",
      "    5 |     500 |  0.00000E+00 |  0.00000E+00 |  1.45000E+02 |  2.25590E+02\n",
      "    6 |     600 |  0.00000E+00 |  0.00000E+00 |  1.28000E+02 |  1.97060E+02\n",
      "    7 |     700 |  0.00000E+00 |  0.00000E+00 |  1.00000E+02 |  1.75580E+02\n",
      "    8 |     800 |  0.00000E+00 |  0.00000E+00 |  1.00000E+02 |  1.57490E+02\n",
      "    9 |     900 |  0.00000E+00 |  0.00000E+00 |  9.80000E+01 |  1.41920E+02\n"
     ]
    },
    {
     "name": "stdout",
     "output_type": "stream",
     "text": [
      "   10 |    1000 |  0.00000E+00 |  0.00000E+00 |  6.10000E+01 |  1.28920E+02\n",
      "   11 |    1100 |  0.00000E+00 |  0.00000E+00 |  6.10000E+01 |  1.17730E+02\n",
      "   12 |    1200 |  0.00000E+00 |  0.00000E+00 |  6.10000E+01 |  1.09730E+02\n",
      "   13 |    1300 |  0.00000E+00 |  0.00000E+00 |  6.10000E+01 |  1.03210E+02\n",
      "   14 |    1400 |  0.00000E+00 |  0.00000E+00 |  6.10000E+01 |  9.73500E+01\n",
      "   15 |    1500 |  0.00000E+00 |  0.00000E+00 |  6.10000E+01 |  9.37400E+01\n",
      "   16 |    1600 |  0.00000E+00 |  0.00000E+00 |  6.10000E+01 |  9.04500E+01\n",
      "   17 |    1700 |  0.00000E+00 |  0.00000E+00 |  6.10000E+01 |  8.60100E+01\n",
      "   18 |    1800 |  0.00000E+00 |  0.00000E+00 |  5.70000E+01 |  8.21100E+01\n",
      "   19 |    1900 |  0.00000E+00 |  0.00000E+00 |  5.50000E+01 |  7.90200E+01\n"
     ]
    },
    {
     "name": "stdout",
     "output_type": "stream",
     "text": [
      "   20 |    2000 |  0.00000E+00 |  0.00000E+00 |  5.50000E+01 |  7.72200E+01\n",
      "   21 |    2100 |  0.00000E+00 |  0.00000E+00 |  5.30000E+01 |  7.44300E+01\n",
      "   22 |    2200 |  0.00000E+00 |  0.00000E+00 |  5.30000E+01 |  7.25200E+01\n",
      "   23 |    2300 |  0.00000E+00 |  0.00000E+00 |  4.90000E+01 |  7.06400E+01\n",
      "   24 |    2400 |  0.00000E+00 |  0.00000E+00 |  4.60000E+01 |  6.82500E+01\n",
      "   25 |    2500 |  0.00000E+00 |  0.00000E+00 |  4.60000E+01 |  6.49500E+01\n",
      "   26 |    2600 |  0.00000E+00 |  0.00000E+00 |  4.60000E+01 |  6.21700E+01\n",
      "   27 |    2700 |  0.00000E+00 |  0.00000E+00 |  4.40000E+01 |  5.90200E+01\n"
     ]
    },
    {
     "name": "stdout",
     "output_type": "stream",
     "text": [
      "   28 |    2800 |  0.00000E+00 |  0.00000E+00 |  4.40000E+01 |  5.76400E+01\n",
      "   29 |    2900 |  0.00000E+00 |  0.00000E+00 |  4.40000E+01 |  5.61500E+01\n",
      "   30 |    3000 |  0.00000E+00 |  0.00000E+00 |  4.40000E+01 |  5.44400E+01\n",
      "   31 |    3100 |  0.00000E+00 |  0.00000E+00 |  4.10000E+01 |  5.31800E+01\n",
      "   32 |    3200 |  0.00000E+00 |  0.00000E+00 |  4.10000E+01 |  5.27300E+01\n",
      "   33 |    3300 |  0.00000E+00 |  0.00000E+00 |  4.10000E+01 |  5.21800E+01\n",
      "   34 |    3400 |  0.00000E+00 |  0.00000E+00 |  4.10000E+01 |  5.17700E+01\n",
      "   35 |    3500 |  0.00000E+00 |  0.00000E+00 |  4.10000E+01 |  5.12400E+01\n",
      "   36 |    3600 |  0.00000E+00 |  0.00000E+00 |  4.10000E+01 |  5.06200E+01\n",
      "   37 |    3700 |  0.00000E+00 |  0.00000E+00 |  4.10000E+01 |  5.02900E+01\n"
     ]
    },
    {
     "name": "stdout",
     "output_type": "stream",
     "text": [
      "   38 |    3800 |  0.00000E+00 |  0.00000E+00 |  4.10000E+01 |  5.00100E+01\n",
      "   39 |    3900 |  0.00000E+00 |  0.00000E+00 |  4.10000E+01 |  4.95300E+01\n",
      "   40 |    4000 |  0.00000E+00 |  0.00000E+00 |  3.90000E+01 |  4.88000E+01\n",
      "   41 |    4100 |  0.00000E+00 |  0.00000E+00 |  3.90000E+01 |  4.85000E+01\n",
      "   42 |    4200 |  0.00000E+00 |  0.00000E+00 |  3.90000E+01 |  4.82400E+01\n",
      "   43 |    4300 |  0.00000E+00 |  0.00000E+00 |  3.90000E+01 |  4.81500E+01\n",
      "   44 |    4400 |  0.00000E+00 |  0.00000E+00 |  3.90000E+01 |  4.77300E+01\n",
      "   45 |    4500 |  0.00000E+00 |  0.00000E+00 |  3.90000E+01 |  4.75700E+01\n",
      "   46 |    4600 |  0.00000E+00 |  0.00000E+00 |  3.70000E+01 |  4.68200E+01\n",
      "   47 |    4700 |  0.00000E+00 |  0.00000E+00 |  3.70000E+01 |  4.64700E+01\n"
     ]
    },
    {
     "name": "stdout",
     "output_type": "stream",
     "text": [
      "   48 |    4800 |  0.00000E+00 |  0.00000E+00 |  3.70000E+01 |  4.62800E+01\n",
      "   49 |    4900 |  0.00000E+00 |  0.00000E+00 |  3.70000E+01 |  4.59900E+01\n",
      "   50 |    5000 |  0.00000E+00 |  0.00000E+00 |  3.70000E+01 |  4.58000E+01\n",
      "   51 |    5100 |  0.00000E+00 |  0.00000E+00 |  3.70000E+01 |  4.55800E+01\n",
      "   52 |    5200 |  0.00000E+00 |  0.00000E+00 |  3.70000E+01 |  4.54500E+01\n",
      "   53 |    5300 |  0.00000E+00 |  0.00000E+00 |  3.70000E+01 |  4.53900E+01\n",
      "   54 |    5400 |  0.00000E+00 |  0.00000E+00 |  3.70000E+01 |  4.51800E+01\n",
      "   55 |    5500 |  0.00000E+00 |  0.00000E+00 |  3.70000E+01 |  4.50300E+01\n",
      "   56 |    5600 |  0.00000E+00 |  0.00000E+00 |  3.70000E+01 |  4.48000E+01\n",
      "   57 |    5700 |  0.00000E+00 |  0.00000E+00 |  3.70000E+01 |  4.47100E+01\n"
     ]
    },
    {
     "name": "stdout",
     "output_type": "stream",
     "text": [
      "   58 |    5800 |  0.00000E+00 |  0.00000E+00 |  3.70000E+01 |  4.45800E+01\n",
      "   59 |    5900 |  0.00000E+00 |  0.00000E+00 |  3.70000E+01 |  4.44300E+01\n",
      "   60 |    6000 |  0.00000E+00 |  0.00000E+00 |  3.70000E+01 |  4.43300E+01\n",
      "Function value: 37.0\n",
      "Subset: [ 5  9 12 36 37 40 47 52 68 99]\n"
     ]
    }
   ],
   "source": [
    "from pymoo.algorithms.soo.nonconvex.ga import GA\n",
    "from pymoo.optimize import minimize\n",
    "\n",
    "algorithm = GA(\n",
    "    pop_size=100,\n",
    "    sampling=MySampling(),\n",
    "    crossover=BinaryCrossover(),\n",
    "    mutation=MyMutation(),\n",
    "    eliminate_duplicates=True)\n",
    "\n",
    "res = minimize(problem,\n",
    "               algorithm,\n",
    "               ('n_gen', 60),\n",
    "               seed=1,\n",
    "               verbose=True)\n",
    "\n",
    "print(\"Function value: %s\" % res.F[0])\n",
    "print(\"Subset:\", np.where(res.X)[0])\n"
   ]
  },
  {
   "cell_type": "markdown",
   "metadata": {},
   "source": [
    "Finally, we can compare the found subset with the optimum known simply through sorting:"
   ]
  },
  {
   "cell_type": "code",
   "execution_count": 4,
   "metadata": {
    "execution": {
     "iopub.execute_input": "2021-09-14T16:19:03.004810Z",
     "iopub.status.busy": "2021-09-14T16:19:03.003973Z",
     "iopub.status.idle": "2021-09-14T16:19:03.006882Z",
     "shell.execute_reply": "2021-09-14T16:19:03.007278Z"
    }
   },
   "outputs": [
    {
     "name": "stdout",
     "output_type": "stream",
     "text": [
      "Optimal Subset: [ 5  9 12 31 36 37 47 52 68 99]\n",
      "Optimal Function Value: 36\n"
     ]
    }
   ],
   "source": [
    "opt = np.sort(np.argsort(L)[:n_max])\n",
    "print(\"Optimal Subset:\", opt)\n",
    "print(\"Optimal Function Value: %s\" % L[opt].sum())"
   ]
  }
 ],
 "metadata": {
  "kernelspec": {
   "display_name": "Python 3",
   "language": "python",
   "name": "python3"
  },
  "language_info": {
   "codemirror_mode": {
    "name": "ipython",
    "version": 3
   },
   "file_extension": ".py",
   "mimetype": "text/x-python",
   "name": "python",
   "nbconvert_exporter": "python",
   "pygments_lexer": "ipython3",
   "version": "3.9.7"
  }
 },
 "nbformat": 4,
 "nbformat_minor": 4
}
